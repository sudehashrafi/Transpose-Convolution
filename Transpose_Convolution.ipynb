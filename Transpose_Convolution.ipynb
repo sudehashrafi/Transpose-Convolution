{
  "nbformat": 4,
  "nbformat_minor": 0,
  "metadata": {
    "colab": {
      "provenance": []
    },
    "kernelspec": {
      "name": "python3",
      "display_name": "Python 3"
    },
    "language_info": {
      "name": "python"
    }
  },
  "cells": [
    {
      "cell_type": "markdown",
      "source": [
        "# Transpose Convolution = Deconvolution\n",
        "\n",
        "it is an essential technique in deep learning for image processing tasks\n",
        "\n"
      ],
      "metadata": {
        "id": "KW1P5Xk7IKMP"
      }
    },
    {
      "cell_type": "code",
      "execution_count": 1,
      "metadata": {
        "id": "eu4enpmeIEE5"
      },
      "outputs": [],
      "source": [
        "import os\n",
        "import logging\n",
        "import tensorflow as tf\n",
        "from tensorflow.keras.layers import Conv2DTranspose, Input, UpSampling2D\n",
        "from tensorflow.keras.models import Model"
      ]
    },
    {
      "cell_type": "code",
      "source": [
        "os.environ['TF_CPP_MIN_LOG_LEVEL'] = '3'\n",
        "os.environ['TF_ENABLE_ONEDNN_OPTS'] = '0'\n",
        "\n",
        "logging.getLogger('tensorflow').setLevel(logging.ERROR)"
      ],
      "metadata": {
        "id": "V3sK_N9OII_k"
      },
      "execution_count": null,
      "outputs": []
    },
    {
      "cell_type": "code",
      "source": [
        "input_layer = Input(shape=(28, 28, 1))\n",
        "\n",
        "transpose_conv_layer = Conv2DTranspose(filters=32, kernel_size=(3, 3),\n",
        "                                       strides=(2, 2), padding='same',\n",
        "                                       activation='relu')(input_layer)\n",
        "\n",
        "output_layer = Conv2DTranspose(filters=1, kernel_size=(3, 3),\n",
        "                               padding='same', activation='sigmoid')(transpose_conv_layer)\n",
        "\n",
        "model = Model(inputs=input_layer, outputs=output_layer)"
      ],
      "metadata": {
        "id": "_SYdXYG_IJD4"
      },
      "execution_count": null,
      "outputs": []
    },
    {
      "cell_type": "code",
      "source": [
        "model.compile(optimizer='adam', loss='mean_squared_error', metrics=['accuracy'])\n",
        "\n",
        "model.summary()"
      ],
      "metadata": {
        "id": "_ddnjLJ0IJHD"
      },
      "execution_count": null,
      "outputs": []
    },
    {
      "cell_type": "markdown",
      "source": [
        "## Issues with Transpose Convolution:\n",
        "1. Checkboard artifacts\n",
        "2. uneven overlapping of convolution kernels\n",
        "\n",
        "to mitigate:\n",
        "we need to consider using additional techniques such as:\n",
        "1. Bilinear up-sampling\n",
        "2. followed by a regular convolution layer"
      ],
      "metadata": {
        "id": "j55WSVbuKpQw"
      }
    },
    {
      "cell_type": "code",
      "source": [
        "x = UpSampling2D(size=(2,2))(input_layer)\n",
        "output_layer = Conv2D(filters=64, kernel_size=(3, 3), padding='same')(x)"
      ],
      "metadata": {
        "id": "b80Wv81jIJJn"
      },
      "execution_count": null,
      "outputs": []
    },
    {
      "cell_type": "code",
      "source": [],
      "metadata": {
        "id": "M-eaPcYuIJMe"
      },
      "execution_count": null,
      "outputs": []
    },
    {
      "cell_type": "code",
      "source": [],
      "metadata": {
        "id": "T7Js1C1OIJO3"
      },
      "execution_count": null,
      "outputs": []
    },
    {
      "cell_type": "code",
      "source": [],
      "metadata": {
        "id": "D-KTInsHIJRb"
      },
      "execution_count": null,
      "outputs": []
    },
    {
      "cell_type": "code",
      "source": [],
      "metadata": {
        "id": "WFVsS71ZIJT7"
      },
      "execution_count": null,
      "outputs": []
    }
  ]
}